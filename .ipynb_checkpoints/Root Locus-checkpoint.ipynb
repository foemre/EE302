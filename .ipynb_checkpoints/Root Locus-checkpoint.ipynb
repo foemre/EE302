{
 "cells": [
  {
   "cell_type": "markdown",
   "metadata": {},
   "source": [
    "# Root Locus\n",
    "\n",
    "Given an  open loop transfer function as \n",
    "\\begin{align}\n",
    "G(s)H(s)=K \\frac{N(s)}{D(s)}\\nonumber,\n",
    "\\end{align}"
   ]
  },
  {
   "cell_type": "markdown",
   "metadata": {},
   "source": [
    "our aim is to find the closed loop poles, i.e., roots of $1+G(s)H(s)=0$ or equivalently, $D(s)+KN(s)=0$, as $K$ changes from 0 to $\\infty$."
   ]
  },
  {
   "cell_type": "markdown",
   "metadata": {},
   "source": [
    "The problem is also equivalent to answering the following question:\n",
    "\n",
    "Given the roots of $N(s)$ and $D(s)$, could you plot the roots of $D(s)+KN(s)$ as $K$ changes from $0$ to $\\infty$ ?"
   ]
  },
  {
   "cell_type": "markdown",
   "metadata": {},
   "source": [
    "Notice that the answer is trivial for $K=0$. The branches in the root locus starts from the roots of $D(s)$, i.e., open loop poles. In some cases, they start from $\\infty$"
   ]
  },
  {
   "cell_type": "markdown",
   "metadata": {},
   "source": [
    "### Example\n",
    "Consider the open loop transfer function (OPLF):\n",
    "\\begin{align}\n",
    "G(s)H(S)=K\\frac{4s^2+s}{3s^3+s+1}. \n",
    "\\end{align}\n"
   ]
  },
  {
   "cell_type": "markdown",
   "metadata": {},
   "source": [
    "Let us plot the roots of $D(s)+KN(s)$,and the step response of $\\frac{1}{D(s)+KN(s)}$ simultaneously as $K$ changes from $0$ to $2$.\n",
    "The Matlab code below will produce these plots:"
   ]
  },
  {
   "cell_type": "code",
   "execution_count": 1,
   "metadata": {
    "collapsed": true
   },
   "outputs": [],
   "source": [
    "#close all\n",
    "#num =[   0     4     1     0 ];\n",
    "#den =[   3     0     1     1 ];\n",
    "#s=tf(num,den)\n",
    "#figure(1),\n",
    "#rlocus(s)\n",
    "#axis([-2.5 0.4 -0.8 0.8])     \n",
    "\n",
    "#figure(2),\n",
    "#for K = 0:0.02:2\n",
    "#    scl=tf(1,den+K*num);\n",
    "#    subplot(211),step(scl), ylabel('Step Response');\n",
    "#    title(['K = ' num2str(K)])\n",
    "#    axis([0 100 0 10])\n",
    "#    subplot(212), hold on , rlocus(s,'x',K)\n",
    "#    axis([-2.5 0.4 -0.8 0.8])     \n",
    "#    pause(0.01)\n",
    "#end"
   ]
  },
  {
   "cell_type": "code",
   "execution_count": 7,
   "metadata": {
    "collapsed": false
   },
   "outputs": [
    {
     "data": {
      "text/html": [
       "<img src=\"figures/rootl.gif\" width=\"640\" height=\"480\"/>"
      ],
      "text/plain": [
       "<IPython.core.display.Image object>"
      ]
     },
     "metadata": {},
     "output_type": "display_data"
    }
   ],
   "source": [
    "from IPython.display import Image, display\n",
    "display(Image(url='figures/rootl.gif', width=640, height=480))"
   ]
  },
  {
   "cell_type": "markdown",
   "metadata": {},
   "source": [
    "Notice that the system is unstable for small values of $K$. The roots intersects the $jw$ axis when $K=0.5$. We observe sustained oscillations in the step response for $K=0.5$. \n",
    "\n",
    "Here is the full plot of the root locus as $K$ changes from $0$ to $\\infty$"
   ]
  },
  {
   "cell_type": "code",
   "execution_count": 8,
   "metadata": {
    "collapsed": false
   },
   "outputs": [
    {
     "data": {
      "text/html": [
       "<img src=\"figures/0.png\" width=\"640\" height=\"480\"/>"
      ],
      "text/plain": [
       "<IPython.core.display.Image object>"
      ]
     },
     "metadata": {},
     "output_type": "display_data"
    }
   ],
   "source": [
    "display(Image(url='figures/0.png', width=640, height=480))"
   ]
  },
  {
   "cell_type": "markdown",
   "metadata": {},
   "source": [
    "The roots that we plotted earlier are actually moving on the root locus as we change the $K$ value."
   ]
  },
  {
   "cell_type": "code",
   "execution_count": 10,
   "metadata": {
    "collapsed": false
   },
   "outputs": [
    {
     "data": {
      "text/html": [
       "<img src=\"figures/root2.gif\" width=\"640\" height=\"480\"/>"
      ],
      "text/plain": [
       "<IPython.core.display.Image object>"
      ]
     },
     "metadata": {},
     "output_type": "display_data"
    }
   ],
   "source": [
    "display(Image(url='figures/root2.gif', width=640, height=480))"
   ]
  },
  {
   "cell_type": "markdown",
   "metadata": {},
   "source": [
    "## General Rules for Sketching Root Locus\n",
    "\n",
    "* Number of branches is equal to degree of characteristic polynomial, i.e., $max(n,m)$, where $deg(N(s))=m, deg(D(s))=n$.\n",
    "* Start points ($K=0$), and end points ($K=\\infty$):\n",
    "    * Root Locus starts at open loop poles/infinity and ends at open loop zeros/infinity.\n",
    "* Root Locus is symmetric with respect to the real axis.\n",
    "* Number of asymptotes is equal to $|n-m|$.\n",
    "* Angle of the first asymptotes is equal to $\\frac{180}{|n-m|}$.\n",
    "* Angle between the asymptotes is equal to $\\frac{360}{|n-m|}$.\n",
    "* Intersection of the asymptotes (aka centroid) is equal to \\frac{\\sum p_i- \\sum z_i}{n-m}.\n",
    "* Root Locus on real axis:  Number of poles and zeros to the right has to be an odd number.\n",
    "* Break away/in points is found by solving $D'(s)N(s)-N'(s)D(s)=0$.\n",
    "* $jw$ crossing:  \n",
    "    * 1st way: Substitute  $s=jw$ in $D(s)+KN(s)=0$ and solve by equating  real and imaginary parts to zero.\n",
    "    * 2nd way: Use Routh-Hurwitz criteria."
   ]
  }
 ],
 "metadata": {
  "kernelspec": {
   "display_name": "Python 3",
   "language": "python",
   "name": "python3"
  },
  "language_info": {
   "codemirror_mode": {
    "name": "ipython",
    "version": 3
   },
   "file_extension": ".py",
   "mimetype": "text/x-python",
   "name": "python",
   "nbconvert_exporter": "python",
   "pygments_lexer": "ipython3",
   "version": "3.6.0"
  }
 },
 "nbformat": 4,
 "nbformat_minor": 2
}
