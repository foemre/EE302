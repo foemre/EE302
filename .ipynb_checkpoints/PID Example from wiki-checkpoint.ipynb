{
 "cells": [
  {
   "cell_type": "markdown",
   "metadata": {},
   "source": [
    "### PID Controller\n",
    "For a short summary of the topic check out  https://en.wikipedia.org/wiki/PID_controller. \n",
    "#### Example:\n",
    "\n",
    "\n",
    "In a unity feedback configuration, an ideal PID compensator is used to enhance the step response of a system with the transfer function \n",
    "\\begin{align}\n",
    "G_1(s)=\\frac{\\omega_n^2}{s^2+2 \\xi \\omega_n s +\\omega_n^2}, \\quad \\quad \\text{where}\\quad \\xi=\\frac{2}{3},\\quad \\omega_n=1.\n",
    "\\end{align}\n",
    "\n",
    "The PID controller has the standard form \n",
    "\\begin{align}\n",
    "G_c(s)=K_p+\\frac{K_i}{s}+K_ds \n",
    "\\end{align}\n",
    "Therefore, the closed loop transfer function of the whole system becomes\n",
    "\\begin{align}\n",
    "G(s)=\\frac{G_1(s)G_c(s)}{1+G_1(s)G_c(s)}= \\frac{K_d s^2+ K_ps +K_i}{s^3 +(2 \\xi \\omega_n +K_d)s^2+ (K_p+1)s +K_i}.\n",
    "\\end{align}\n",
    "\n",
    "As the proportional, integral and derivative terms of the PID compensator are increased, the evolution of the step response, from the initial uncompensated response (corresponding to PID coefficents Kp=1, Ki=0, Kd=0) to the final desired response is depicted. \n"
   ]
  },
  {
   "cell_type": "code",
   "execution_count": 7,
   "metadata": {
    "collapsed": false
   },
   "outputs": [
    {
     "data": {
      "text/html": [
       "<img src=\"https://upload.wikimedia.org/wikipedia/commons/3/33/PID_Compensation_Animated.gif\"/>"
      ],
      "text/plain": [
       "<IPython.core.display.Image object>"
      ]
     },
     "metadata": {},
     "output_type": "display_data"
    }
   ],
   "source": [
    "from IPython.display import Image, display\n",
    "display(Image(url='https://upload.wikimedia.org/wikipedia/commons/3/33/PID_Compensation_Animated.gif'))\n"
   ]
  },
  {
   "cell_type": "markdown",
   "metadata": {},
   "source": [
    "The following effects of PID compensation can be observed:\n",
    "<ul>\n",
    "<li>The proportional term increases the speed of the system. It also decreases the residual steady state error of the step response, but can not eliminate it completely.</li>\n",
    "<li> The integral term eliminates the residual steady state error of the step response, but adds undesired \"oscillations\" to the transient response (overshoot).</li>\n",
    "<li> The derivative term \"damps out\" the undesired oscillations in the transient response.</li>\n",
    "</ul>"
   ]
  }
 ],
 "metadata": {
  "kernelspec": {
   "display_name": "Python 3",
   "language": "python",
   "name": "python3"
  },
  "language_info": {
   "codemirror_mode": {
    "name": "ipython",
    "version": 3
   },
   "file_extension": ".py",
   "mimetype": "text/x-python",
   "name": "python",
   "nbconvert_exporter": "python",
   "pygments_lexer": "ipython3",
   "version": "3.6.0"
  }
 },
 "nbformat": 4,
 "nbformat_minor": 2
}
